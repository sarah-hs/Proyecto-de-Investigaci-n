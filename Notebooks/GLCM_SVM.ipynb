{
 "cells": [
  {
   "cell_type": "code",
   "execution_count": 1,
   "metadata": {
    "colab": {},
    "colab_type": "code",
    "executionInfo": {
     "elapsed": 1220,
     "status": "ok",
     "timestamp": 1600100831941,
     "user": {
      "displayName": "Sarah Hernández Serrano",
      "photoUrl": "https://lh3.googleusercontent.com/a-/AOh14GhPu56UtRlNcYlVlUouF6yEgbR8E4j0MVtAhTnKayY=s64",
      "userId": "18255259528200381895"
     },
     "user_tz": 300
    },
    "id": "miFb3trbCLiM"
   },
   "outputs": [],
   "source": [
    "# Global variables\n",
    "# '/Users/sarah/Documents/images/training' testing\n",
    "# '/Users/sarah/Documents/RC/Rock Classifier 2/train'\n",
    "# '/Users/sarah/Google Drive/Rock Classifier/train'\n",
    "TRAIN_DIR = '/Users/sarah/Documents/RC/Rock Classifier 4/validate'\n",
    "TEST_DIR = '/Users/sarah/Documents/RC/Rock Classifier 4/train'\n",
    "\n",
    "IMAGE_SIZE = (100, 100)\n",
    "BATCH_SIZE = 45\n",
    "\n",
    "PIXELS_PER_CELL = (12,12)\n",
    "CELLS_PER_BLOCK = (1,1)"
   ]
  },
  {
   "cell_type": "code",
   "execution_count": 2,
   "metadata": {},
   "outputs": [],
   "source": [
    "# Libraries\n",
    "import tensorflow as tf"
   ]
  },
  {
   "cell_type": "code",
   "execution_count": 3,
   "metadata": {},
   "outputs": [
    {
     "name": "stdout",
     "output_type": "stream",
     "text": [
      "Found 45 images belonging to 4 classes.\n",
      "Found 36 images belonging to 4 classes.\n"
     ]
    }
   ],
   "source": [
    "# Data generator\n",
    "from tensorflow.keras.preprocessing.image import ImageDataGenerator \n",
    "\n",
    "train_datagen = ImageDataGenerator(rescale = 1. / 255, shear_range = 0.3, zoom_range = 0.3, horizontal_flip = True) \n",
    "test_datagen = ImageDataGenerator(rescale = 1. / 255) \n",
    "\n",
    "train_generator = train_datagen.flow_from_directory(\n",
    "    TRAIN_DIR, \n",
    "    target_size = IMAGE_SIZE,\n",
    "    batch_size = BATCH_SIZE,\n",
    "    class_mode ='categorical',\n",
    "    shuffle=True)\n",
    "  \n",
    "validation_generator = test_datagen.flow_from_directory(\n",
    "    TEST_DIR, \n",
    "    target_size = IMAGE_SIZE,\n",
    "    batch_size = BATCH_SIZE,\n",
    "    shuffle=False)\n",
    "\n",
    "class_labels = list(validation_generator.class_indices.keys()) "
   ]
  },
  {
   "cell_type": "code",
   "execution_count": 4,
   "metadata": {},
   "outputs": [],
   "source": [
    "x_tr, y_tr = train_generator[0]\n",
    "x_tst, y_tst = validation_generator[0]\n",
    "\n",
    "y_1D = []\n",
    "for label in y_tr:\n",
    "    sum = 0\n",
    "    for i in range(len(label)):\n",
    "        sum += label[i]*i\n",
    "    y_1D.append(sum)\n",
    "y_tr = y_1D\n",
    "\n",
    "y_1D = []\n",
    "for label in y_tst:\n",
    "    sum = 0\n",
    "    for i in range(len(label)):\n",
    "        sum += label[i]*i\n",
    "    y_1D.append(sum)\n",
    "y_tst = y_1D"
   ]
  },
  {
   "cell_type": "code",
   "execution_count": 5,
   "metadata": {},
   "outputs": [
    {
     "name": "stdout",
     "output_type": "stream",
     "text": [
      "(45, 100, 100, 3) (36, 100, 100, 3)\n"
     ]
    }
   ],
   "source": [
    "import numpy as np\n",
    "print(np.shape(x_tr), np.shape(x_tst))"
   ]
  },
  {
   "cell_type": "code",
   "execution_count": 6,
   "metadata": {
    "colab": {},
    "colab_type": "code",
    "executionInfo": {
     "elapsed": 732,
     "status": "ok",
     "timestamp": 1600101618671,
     "user": {
      "displayName": "Sarah Hernández Serrano",
      "photoUrl": "https://lh3.googleusercontent.com/a-/AOh14GhPu56UtRlNcYlVlUouF6yEgbR8E4j0MVtAhTnKayY=s64",
      "userId": "18255259528200381895"
     },
     "user_tz": 300
    },
    "id": "ZGNxQPhA2duE"
   },
   "outputs": [
    {
     "data": {
      "text/plain": [
       "(3, 256, 256, 1, 1)"
      ]
     },
     "execution_count": 6,
     "metadata": {},
     "output_type": "execute_result"
    }
   ],
   "source": [
    "# Feature extraction\n",
    "from skimage.feature import greycomatrix\n",
    "from skimage import img_as_uint\n",
    "import cv2\n",
    "\n",
    "data_extracted_tr = []\n",
    "for img in x_tr:\n",
    "    b,g,r = cv2.split(img)\n",
    "    b = greycomatrix(np.uint8(b), distances=[5], angles=[0], levels=256, symmetric=True, normed=True)\n",
    "    g = greycomatrix(np.uint8(g), distances=[5], angles=[0], levels=256, symmetric=True, normed=True)\n",
    "    r = greycomatrix(np.uint8(r), distances=[5], angles=[0], levels=256, symmetric=True, normed=True)\n",
    "    data_extracted_tr.append([b, g, r])\n",
    "\n",
    "data_extracted_tst = []\n",
    "for img in x_tst:\n",
    "    b,g,r = cv2.split(img)\n",
    "    b = greycomatrix(np.uint8(b), distances=[5], angles=[0], levels=256, symmetric=True, normed=True)\n",
    "    g = greycomatrix(np.uint8(g), distances=[5], angles=[0], levels=256, symmetric=True, normed=True)\n",
    "    r = greycomatrix(np.uint8(r), distances=[5], angles=[0], levels=256, symmetric=True, normed=True)\n",
    "    data_extracted_tst.append([b, g, r])\n",
    "np.shape(data_extracted_tst[0])"
   ]
  },
  {
   "cell_type": "code",
   "execution_count": 7,
   "metadata": {
    "colab": {
     "base_uri": "https://localhost:8080/",
     "height": 466
    },
    "colab_type": "code",
    "executionInfo": {
     "elapsed": 1728,
     "status": "ok",
     "timestamp": 1600101577431,
     "user": {
      "displayName": "Sarah Hernández Serrano",
      "photoUrl": "https://lh3.googleusercontent.com/a-/AOh14GhPu56UtRlNcYlVlUouF6yEgbR8E4j0MVtAhTnKayY=s64",
      "userId": "18255259528200381895"
     },
     "user_tz": 300
    },
    "id": "9peuCPWHHpnS",
    "outputId": "9f682ba9-205e-4ba9-d498-0a837385043e"
   },
   "outputs": [
    {
     "name": "stdout",
     "output_type": "stream",
     "text": [
      "Extracción de contorno con HOG\n"
     ]
    },
    {
     "ename": "TypeError",
     "evalue": "Invalid shape (3, 256, 256, 1, 1) for image data",
     "output_type": "error",
     "traceback": [
      "\u001b[0;31m---------------------------------------------------------------------------\u001b[0m",
      "\u001b[0;31mTypeError\u001b[0m                                 Traceback (most recent call last)",
      "\u001b[0;32m<ipython-input-7-be6479d7e643>\u001b[0m in \u001b[0;36m<module>\u001b[0;34m\u001b[0m\n\u001b[1;32m     13\u001b[0m     \u001b[0max2\u001b[0m\u001b[0;34m.\u001b[0m\u001b[0mset_title\u001b[0m\u001b[0;34m(\u001b[0m\u001b[0;34m'After '\u001b[0m\u001b[0;34m)\u001b[0m\u001b[0;31m#+y[i*4])\u001b[0m\u001b[0;34m\u001b[0m\u001b[0;34m\u001b[0m\u001b[0m\n\u001b[1;32m     14\u001b[0m     \u001b[0max2\u001b[0m\u001b[0;34m.\u001b[0m\u001b[0mset_axis_off\u001b[0m\u001b[0;34m(\u001b[0m\u001b[0;34m)\u001b[0m\u001b[0;34m\u001b[0m\u001b[0;34m\u001b[0m\u001b[0m\n\u001b[0;32m---> 15\u001b[0;31m     \u001b[0max2\u001b[0m\u001b[0;34m.\u001b[0m\u001b[0mimshow\u001b[0m\u001b[0;34m(\u001b[0m\u001b[0mdata_extracted_tr\u001b[0m\u001b[0;34m[\u001b[0m\u001b[0mi\u001b[0m\u001b[0;34m*\u001b[0m\u001b[0;36m4\u001b[0m\u001b[0;34m]\u001b[0m\u001b[0;34m,\u001b[0m\u001b[0mcmap\u001b[0m\u001b[0;34m=\u001b[0m\u001b[0mplt\u001b[0m\u001b[0;34m.\u001b[0m\u001b[0mcm\u001b[0m\u001b[0;34m.\u001b[0m\u001b[0mgray\u001b[0m\u001b[0;34m)\u001b[0m\u001b[0;34m\u001b[0m\u001b[0;34m\u001b[0m\u001b[0m\n\u001b[0m\u001b[1;32m     16\u001b[0m \u001b[0mplt\u001b[0m\u001b[0;34m.\u001b[0m\u001b[0mshow\u001b[0m\u001b[0;34m(\u001b[0m\u001b[0;34m)\u001b[0m\u001b[0;34m\u001b[0m\u001b[0;34m\u001b[0m\u001b[0m\n",
      "\u001b[0;32m~/opt/miniconda3/envs/proves/lib/python3.7/site-packages/matplotlib/__init__.py\u001b[0m in \u001b[0;36minner\u001b[0;34m(ax, data, *args, **kwargs)\u001b[0m\n\u001b[1;32m   1436\u001b[0m     \u001b[0;32mdef\u001b[0m \u001b[0minner\u001b[0m\u001b[0;34m(\u001b[0m\u001b[0max\u001b[0m\u001b[0;34m,\u001b[0m \u001b[0;34m*\u001b[0m\u001b[0margs\u001b[0m\u001b[0;34m,\u001b[0m \u001b[0mdata\u001b[0m\u001b[0;34m=\u001b[0m\u001b[0;32mNone\u001b[0m\u001b[0;34m,\u001b[0m \u001b[0;34m**\u001b[0m\u001b[0mkwargs\u001b[0m\u001b[0;34m)\u001b[0m\u001b[0;34m:\u001b[0m\u001b[0;34m\u001b[0m\u001b[0;34m\u001b[0m\u001b[0m\n\u001b[1;32m   1437\u001b[0m         \u001b[0;32mif\u001b[0m \u001b[0mdata\u001b[0m \u001b[0;32mis\u001b[0m \u001b[0;32mNone\u001b[0m\u001b[0;34m:\u001b[0m\u001b[0;34m\u001b[0m\u001b[0;34m\u001b[0m\u001b[0m\n\u001b[0;32m-> 1438\u001b[0;31m             \u001b[0;32mreturn\u001b[0m \u001b[0mfunc\u001b[0m\u001b[0;34m(\u001b[0m\u001b[0max\u001b[0m\u001b[0;34m,\u001b[0m \u001b[0;34m*\u001b[0m\u001b[0mmap\u001b[0m\u001b[0;34m(\u001b[0m\u001b[0msanitize_sequence\u001b[0m\u001b[0;34m,\u001b[0m \u001b[0margs\u001b[0m\u001b[0;34m)\u001b[0m\u001b[0;34m,\u001b[0m \u001b[0;34m**\u001b[0m\u001b[0mkwargs\u001b[0m\u001b[0;34m)\u001b[0m\u001b[0;34m\u001b[0m\u001b[0;34m\u001b[0m\u001b[0m\n\u001b[0m\u001b[1;32m   1439\u001b[0m \u001b[0;34m\u001b[0m\u001b[0m\n\u001b[1;32m   1440\u001b[0m         \u001b[0mbound\u001b[0m \u001b[0;34m=\u001b[0m \u001b[0mnew_sig\u001b[0m\u001b[0;34m.\u001b[0m\u001b[0mbind\u001b[0m\u001b[0;34m(\u001b[0m\u001b[0max\u001b[0m\u001b[0;34m,\u001b[0m \u001b[0;34m*\u001b[0m\u001b[0margs\u001b[0m\u001b[0;34m,\u001b[0m \u001b[0;34m**\u001b[0m\u001b[0mkwargs\u001b[0m\u001b[0;34m)\u001b[0m\u001b[0;34m\u001b[0m\u001b[0;34m\u001b[0m\u001b[0m\n",
      "\u001b[0;32m~/opt/miniconda3/envs/proves/lib/python3.7/site-packages/matplotlib/axes/_axes.py\u001b[0m in \u001b[0;36mimshow\u001b[0;34m(self, X, cmap, norm, aspect, interpolation, alpha, vmin, vmax, origin, extent, filternorm, filterrad, resample, url, **kwargs)\u001b[0m\n\u001b[1;32m   5521\u001b[0m                               resample=resample, **kwargs)\n\u001b[1;32m   5522\u001b[0m \u001b[0;34m\u001b[0m\u001b[0m\n\u001b[0;32m-> 5523\u001b[0;31m         \u001b[0mim\u001b[0m\u001b[0;34m.\u001b[0m\u001b[0mset_data\u001b[0m\u001b[0;34m(\u001b[0m\u001b[0mX\u001b[0m\u001b[0;34m)\u001b[0m\u001b[0;34m\u001b[0m\u001b[0;34m\u001b[0m\u001b[0m\n\u001b[0m\u001b[1;32m   5524\u001b[0m         \u001b[0mim\u001b[0m\u001b[0;34m.\u001b[0m\u001b[0mset_alpha\u001b[0m\u001b[0;34m(\u001b[0m\u001b[0malpha\u001b[0m\u001b[0;34m)\u001b[0m\u001b[0;34m\u001b[0m\u001b[0;34m\u001b[0m\u001b[0m\n\u001b[1;32m   5525\u001b[0m         \u001b[0;32mif\u001b[0m \u001b[0mim\u001b[0m\u001b[0;34m.\u001b[0m\u001b[0mget_clip_path\u001b[0m\u001b[0;34m(\u001b[0m\u001b[0;34m)\u001b[0m \u001b[0;32mis\u001b[0m \u001b[0;32mNone\u001b[0m\u001b[0;34m:\u001b[0m\u001b[0;34m\u001b[0m\u001b[0;34m\u001b[0m\u001b[0m\n",
      "\u001b[0;32m~/opt/miniconda3/envs/proves/lib/python3.7/site-packages/matplotlib/image.py\u001b[0m in \u001b[0;36mset_data\u001b[0;34m(self, A)\u001b[0m\n\u001b[1;32m    704\u001b[0m                 or self._A.ndim == 3 and self._A.shape[-1] in [3, 4]):\n\u001b[1;32m    705\u001b[0m             raise TypeError(\"Invalid shape {} for image data\"\n\u001b[0;32m--> 706\u001b[0;31m                             .format(self._A.shape))\n\u001b[0m\u001b[1;32m    707\u001b[0m \u001b[0;34m\u001b[0m\u001b[0m\n\u001b[1;32m    708\u001b[0m         \u001b[0;32mif\u001b[0m \u001b[0mself\u001b[0m\u001b[0;34m.\u001b[0m\u001b[0m_A\u001b[0m\u001b[0;34m.\u001b[0m\u001b[0mndim\u001b[0m \u001b[0;34m==\u001b[0m \u001b[0;36m3\u001b[0m\u001b[0;34m:\u001b[0m\u001b[0;34m\u001b[0m\u001b[0;34m\u001b[0m\u001b[0m\n",
      "\u001b[0;31mTypeError\u001b[0m: Invalid shape (3, 256, 256, 1, 1) for image data"
     ]
    },
    {
     "data": {
      "image/png": "[encoded data removed]",
      "text/plain": [
       "<Figure size 720x720 with 2 Axes>"
      ]
     },
     "metadata": {
      "needs_background": "light"
     },
     "output_type": "display_data"
    }
   ],
   "source": [
    "# Plot extracted image data\n",
    "import matplotlib.pyplot as plt\n",
    "\n",
    "print('Extracción de contorno con HOG')\n",
    "\n",
    "fig = plt.figure(figsize=(10,10))\n",
    "for i in range(4):\n",
    "    ax = fig.add_subplot(4,2,i*2+1)\n",
    "    ax.set_title('Before ')#+y[i*4])\n",
    "    ax.set_axis_off()\n",
    "    ax.imshow(x_tr[i*4])\n",
    "    ax2 = fig.add_subplot(4,2,i*2+2)\n",
    "    ax2.set_title('After ')#+y[i*4])\n",
    "    ax2.set_axis_off()\n",
    "    ax2.imshow(data_extracted_tr[i*4],cmap=plt.cm.gray)\n",
    "plt.show()"
   ]
  },
  {
   "cell_type": "code",
   "execution_count": 8,
   "metadata": {
    "colab": {
     "base_uri": "https://localhost:8080/",
     "height": 85
    },
    "colab_type": "code",
    "executionInfo": {
     "elapsed": 695,
     "status": "ok",
     "timestamp": 1600101995760,
     "user": {
      "displayName": "Sarah Hernández Serrano",
      "photoUrl": "https://lh3.googleusercontent.com/a-/AOh14GhPu56UtRlNcYlVlUouF6yEgbR8E4j0MVtAhTnKayY=s64",
      "userId": "18255259528200381895"
     },
     "user_tz": 300
    },
    "id": "JX0d-TL8UBS3",
    "outputId": "c2f9b1fe-bff4-4a6b-f401-7f46d61bf24c"
   },
   "outputs": [],
   "source": [
    "# Create model\n",
    "from sklearn.svm import LinearSVC\n",
    "\n",
    "model = LinearSVC(C=100.0, random_state=42)"
   ]
  },
  {
   "cell_type": "code",
   "execution_count": 9,
   "metadata": {},
   "outputs": [
    {
     "ename": "ValueError",
     "evalue": "too many values to unpack (expected 3)",
     "output_type": "error",
     "traceback": [
      "\u001b[0;31m---------------------------------------------------------------------------\u001b[0m",
      "\u001b[0;31mValueError\u001b[0m                                Traceback (most recent call last)",
      "\u001b[0;32m<ipython-input-9-d19930f288c7>\u001b[0m in \u001b[0;36m<module>\u001b[0;34m\u001b[0m\n\u001b[1;32m      3\u001b[0m \u001b[0;34m\u001b[0m\u001b[0m\n\u001b[1;32m      4\u001b[0m \u001b[0mdata_extracted_tr\u001b[0m \u001b[0;34m=\u001b[0m \u001b[0mnp\u001b[0m\u001b[0;34m.\u001b[0m\u001b[0marray\u001b[0m\u001b[0;34m(\u001b[0m\u001b[0mdata_extracted_tr\u001b[0m\u001b[0;34m)\u001b[0m\u001b[0;34m\u001b[0m\u001b[0;34m\u001b[0m\u001b[0m\n\u001b[0;32m----> 5\u001b[0;31m \u001b[0mnsamples\u001b[0m\u001b[0;34m,\u001b[0m \u001b[0mnx\u001b[0m\u001b[0;34m,\u001b[0m \u001b[0mny\u001b[0m \u001b[0;34m=\u001b[0m \u001b[0mdata_extracted_tr\u001b[0m\u001b[0;34m.\u001b[0m\u001b[0mshape\u001b[0m\u001b[0;34m\u001b[0m\u001b[0;34m\u001b[0m\u001b[0m\n\u001b[0m\u001b[1;32m      6\u001b[0m \u001b[0mdata_extracted_2D_tr\u001b[0m \u001b[0;34m=\u001b[0m \u001b[0mdata_extracted_tr\u001b[0m\u001b[0;34m.\u001b[0m\u001b[0mreshape\u001b[0m\u001b[0;34m(\u001b[0m\u001b[0;34m(\u001b[0m\u001b[0mnsamples\u001b[0m\u001b[0;34m,\u001b[0m\u001b[0mnx\u001b[0m\u001b[0;34m*\u001b[0m\u001b[0mny\u001b[0m\u001b[0;34m)\u001b[0m\u001b[0;34m)\u001b[0m\u001b[0;34m\u001b[0m\u001b[0;34m\u001b[0m\u001b[0m\n\u001b[1;32m      7\u001b[0m \u001b[0;34m\u001b[0m\u001b[0m\n",
      "\u001b[0;31mValueError\u001b[0m: too many values to unpack (expected 3)"
     ]
    }
   ],
   "source": [
    "# Train model\n",
    "import numpy as np\n",
    "\n",
    "data_extracted_tr = np.array(data_extracted_tr)\n",
    "nsamples, nx, ny = data_extracted_tr.shape\n",
    "data_extracted_2D_tr = data_extracted_tr.reshape((nsamples,nx*ny))\n",
    "\n",
    "data_extracted_tst = np.array(data_extracted_tst)\n",
    "nsamples, nx, ny = data_extracted_tst.shape\n",
    "data_extracted_2D_tst = data_extracted_tst.reshape((nsamples,nx*ny))\n",
    "    \n",
    "model.fit(data_extracted_2D_tr, y_tr)\n",
    "\n",
    "print(y_tr)"
   ]
  },
  {
   "cell_type": "code",
   "execution_count": null,
   "metadata": {
    "colab": {},
    "colab_type": "code",
    "id": "8mFeVkadhFqr"
   },
   "outputs": [],
   "source": [
    "# Test model\n",
    "from sklearn import metrics\n",
    "\n",
    "predictions = model.predict(data_extracted_2D_tst)\n",
    "print(\"Model accuracy:\", metrics.accuracy_score(y_tst, predictions))\n",
    "print(metrics.classification_report(y_tst,predictions, target_names=class_labels))"
   ]
  },
  {
   "cell_type": "code",
   "execution_count": null,
   "metadata": {},
   "outputs": [],
   "source": []
  }
 ],
 "metadata": {
  "colab": {
   "authorship_tag": "ABX9TyPv3iN85BkHZmkEumAzxsrm",
   "collapsed_sections": [],
   "mount_file_id": "1YXR171bwIaIqLM3ImnbTjlWgOl6F0dlr",
   "name": "RP - feature extraction.ipynb",
   "provenance": []
  },
  "kernelspec": {
   "display_name": "proves",
   "language": "python",
   "name": "proves"
  },
  "language_info": {
   "codemirror_mode": {
    "name": "ipython",
    "version": 3
   },
   "file_extension": ".py",
   "mimetype": "text/x-python",
   "name": "python",
   "nbconvert_exporter": "python",
   "pygments_lexer": "ipython3",
   "version": "3.7.9"
  }
 },
 "nbformat": 4,
 "nbformat_minor": 1
}
