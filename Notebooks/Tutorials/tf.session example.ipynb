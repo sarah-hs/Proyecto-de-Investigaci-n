{
 "cells": [
  {
   "cell_type": "code",
   "execution_count": 1,
   "metadata": {
    "_cell_guid": "b1076dfc-b9ad-4769-8c92-a6c4dae69d19",
    "_uuid": "8f2839f25d086af736a60e9eeb907d3b93b6e0e5"
   },
   "outputs": [
    {
     "name": "stdout",
     "output_type": "stream",
     "text": [
      "WARNING:tensorflow:From /Users/sarah/opt/miniconda3/envs/PI/lib/python3.7/site-packages/tensorflow_core/python/compat/v2_compat.py:65: disable_resource_variables (from tensorflow.python.ops.variable_scope) is deprecated and will be removed in a future version.\n",
      "Instructions for updating:\n",
      "non-resource variables are not supported in the long term\n"
     ]
    }
   ],
   "source": [
    "#import tensorflow as tf\n",
    "import pandas as pd\n",
    "import numpy as np\n",
    "import time\n",
    "from sklearn.datasets import load_iris\n",
    "from sklearn.model_selection import train_test_split\n",
    "import matplotlib.pyplot as plt\n",
    "import tensorflow.compat.v1 as tf\n",
    "tf.disable_v2_behavior()"
   ]
  },
  {
   "cell_type": "code",
   "execution_count": 2,
   "metadata": {
    "_cell_guid": "79c7e3d0-c299-4dcb-8224-4455121ee9b0",
    "_uuid": "d629ff2d2480ee46fbb7e2d37f6b5fab8052498a"
   },
   "outputs": [],
   "source": [
    "iris = load_iris()\n",
    "iris_X, iris_y = iris.data[:-1,:], iris.target[:-1]\n",
    "iris_y= pd.get_dummies(iris_y).values\n",
    "Xtr, Xte, Ytr, Yte = train_test_split(iris_X, iris_y, test_size=0.33, random_state=42)"
   ]
  },
  {
   "cell_type": "code",
   "execution_count": 3,
   "metadata": {
    "_uuid": "d8127b8548eff4316d4709818f43f27c6fd9b41b"
   },
   "outputs": [],
   "source": [
    "# tf Graph Input\n",
    "xtr = tf.placeholder(\"float\", [None, 4])\n",
    "xte = tf.placeholder(\"float\", [4])\n",
    "\n",
    "# Nearest Neighbor calculation using L1 Distance\n",
    "# Calculate L1 Distance\n",
    "distance = tf.reduce_sum(tf.abs(tf.add(xtr, tf.negative(xte))), reduction_indices=1)\n",
    "# Prediction: Get min distance index (Nearest neighbor)\n",
    "pred = tf.arg_min(distance, 0)"
   ]
  },
  {
   "cell_type": "code",
   "execution_count": 4,
   "metadata": {
    "_uuid": "c21a4ae21999381b211931c81ae522b37b425be7"
   },
   "outputs": [],
   "source": [
    "accuracy = 0.\n",
    "\n",
    "# Initialize the variables (i.e. assign their default value)\n",
    "init = tf.global_variables_initializer()"
   ]
  },
  {
   "cell_type": "code",
   "execution_count": 17,
   "metadata": {
    "_uuid": "924e77d42fdaf1b30e1ea91831aa91746790a65f"
   },
   "outputs": [
    {
     "name": "stdout",
     "output_type": "stream",
     "text": [
      "Test 0 Prediction: 1 True Class: 1\n",
      "Test 1 Prediction: 0 True Class: 0\n",
      "Test 2 Prediction: 2 True Class: 2\n",
      "Test 3 Prediction: 1 True Class: 1\n",
      "Test 4 Prediction: 1 True Class: 1\n",
      "Test 5 Prediction: 0 True Class: 0\n",
      "Test 6 Prediction: 1 True Class: 1\n",
      "Test 7 Prediction: 2 True Class: 2\n",
      "Test 8 Prediction: 1 True Class: 1\n",
      "Test 9 Prediction: 1 True Class: 1\n",
      "Test 10 Prediction: 2 True Class: 2\n",
      "Test 11 Prediction: 0 True Class: 0\n",
      "Test 12 Prediction: 0 True Class: 0\n",
      "Test 13 Prediction: 0 True Class: 0\n",
      "Test 14 Prediction: 0 True Class: 0\n",
      "Test 15 Prediction: 1 True Class: 1\n",
      "Test 16 Prediction: 2 True Class: 2\n",
      "Test 17 Prediction: 1 True Class: 1\n",
      "Test 18 Prediction: 1 True Class: 1\n",
      "Test 19 Prediction: 2 True Class: 2\n",
      "Test 20 Prediction: 0 True Class: 0\n",
      "Test 21 Prediction: 2 True Class: 2\n",
      "Test 22 Prediction: 0 True Class: 0\n",
      "Test 23 Prediction: 2 True Class: 2\n",
      "Test 24 Prediction: 2 True Class: 2\n",
      "Test 25 Prediction: 2 True Class: 2\n",
      "Test 26 Prediction: 2 True Class: 2\n",
      "Test 27 Prediction: 1 True Class: 2\n",
      "Test 28 Prediction: 0 True Class: 0\n",
      "Test 29 Prediction: 0 True Class: 0\n",
      "Test 30 Prediction: 0 True Class: 0\n",
      "Test 31 Prediction: 0 True Class: 0\n",
      "Test 32 Prediction: 1 True Class: 1\n",
      "Test 33 Prediction: 0 True Class: 0\n",
      "Test 34 Prediction: 0 True Class: 0\n",
      "Test 35 Prediction: 2 True Class: 2\n",
      "Test 36 Prediction: 1 True Class: 1\n",
      "Test 37 Prediction: 0 True Class: 0\n",
      "Test 38 Prediction: 0 True Class: 0\n",
      "Test 39 Prediction: 0 True Class: 0\n",
      "Test 40 Prediction: 2 True Class: 2\n",
      "Test 41 Prediction: 1 True Class: 1\n",
      "Test 42 Prediction: 1 True Class: 1\n",
      "Test 43 Prediction: 0 True Class: 0\n",
      "Test 44 Prediction: 0 True Class: 0\n",
      "Test 45 Prediction: 1 True Class: 1\n",
      "Test 46 Prediction: 2 True Class: 2\n",
      "Test 47 Prediction: 1 True Class: 2\n",
      "Test 48 Prediction: 1 True Class: 1\n",
      "Test 49 Prediction: 2 True Class: 2\n",
      "Accuracy :  12.479999999999823\n"
     ]
    },
    {
     "ename": "ValueError",
     "evalue": "Unsupported tf.dtype <dtype: 'float64'>",
     "output_type": "error",
     "traceback": [
      "\u001b[0;31m---------------------------------------------------------------------------\u001b[0m",
      "\u001b[0;31mValueError\u001b[0m                                Traceback (most recent call last)",
      "\u001b[0;32m<ipython-input-17-559cde92ccb5>\u001b[0m in \u001b[0;36m<module>\u001b[0;34m\u001b[0m\n\u001b[1;32m     29\u001b[0m \u001b[0;34m\u001b[0m\u001b[0m\n\u001b[1;32m     30\u001b[0m     \u001b[0mconverter\u001b[0m \u001b[0;34m=\u001b[0m \u001b[0mtf\u001b[0m\u001b[0;34m.\u001b[0m\u001b[0mlite\u001b[0m\u001b[0;34m.\u001b[0m\u001b[0mTFLiteConverter\u001b[0m\u001b[0;34m.\u001b[0m\u001b[0mfrom_session\u001b[0m\u001b[0;34m(\u001b[0m\u001b[0msess\u001b[0m\u001b[0;34m,\u001b[0m \u001b[0mxxx\u001b[0m\u001b[0;34m,\u001b[0m \u001b[0myyy\u001b[0m\u001b[0;34m)\u001b[0m\u001b[0;34m\u001b[0m\u001b[0;34m\u001b[0m\u001b[0m\n\u001b[0;32m---> 31\u001b[0;31m     \u001b[0mtflite_model\u001b[0m \u001b[0;34m=\u001b[0m \u001b[0mconverter\u001b[0m\u001b[0;34m.\u001b[0m\u001b[0mconvert\u001b[0m\u001b[0;34m(\u001b[0m\u001b[0;34m)\u001b[0m\u001b[0;34m\u001b[0m\u001b[0;34m\u001b[0m\u001b[0m\n\u001b[0m\u001b[1;32m     32\u001b[0m     \u001b[0mopen\u001b[0m\u001b[0;34m(\u001b[0m\u001b[0;34m\"converted_model.tflite\"\u001b[0m\u001b[0;34m,\u001b[0m \u001b[0;34m\"wb\"\u001b[0m\u001b[0;34m)\u001b[0m\u001b[0;34m.\u001b[0m\u001b[0mwrite\u001b[0m\u001b[0;34m(\u001b[0m\u001b[0mtflite_model\u001b[0m\u001b[0;34m)\u001b[0m\u001b[0;34m\u001b[0m\u001b[0;34m\u001b[0m\u001b[0m\n",
      "\u001b[0;32m~/opt/miniconda3/envs/PI/lib/python3.7/site-packages/tensorflow_core/lite/python/lite.py\u001b[0m in \u001b[0;36mconvert\u001b[0;34m(self)\u001b[0m\n\u001b[1;32m    981\u001b[0m           \u001b[0minput_tensors\u001b[0m\u001b[0;34m=\u001b[0m\u001b[0mself\u001b[0m\u001b[0;34m.\u001b[0m\u001b[0m_input_tensors\u001b[0m\u001b[0;34m,\u001b[0m\u001b[0;34m\u001b[0m\u001b[0;34m\u001b[0m\u001b[0m\n\u001b[1;32m    982\u001b[0m           \u001b[0moutput_tensors\u001b[0m\u001b[0;34m=\u001b[0m\u001b[0mself\u001b[0m\u001b[0;34m.\u001b[0m\u001b[0m_output_tensors\u001b[0m\u001b[0;34m,\u001b[0m\u001b[0;34m\u001b[0m\u001b[0;34m\u001b[0m\u001b[0m\n\u001b[0;32m--> 983\u001b[0;31m           **converter_kwargs)\n\u001b[0m\u001b[1;32m    984\u001b[0m     \u001b[0;32melse\u001b[0m\u001b[0;34m:\u001b[0m\u001b[0;34m\u001b[0m\u001b[0;34m\u001b[0m\u001b[0m\n\u001b[1;32m    985\u001b[0m       result = _toco_convert_graph_def(\n",
      "\u001b[0;32m~/opt/miniconda3/envs/PI/lib/python3.7/site-packages/tensorflow_core/lite/python/convert.py\u001b[0m in \u001b[0;36mtoco_convert_impl\u001b[0;34m(input_data, input_tensors, output_tensors, enable_mlir_converter, *args, **kwargs)\u001b[0m\n\u001b[1;32m    440\u001b[0m   \"\"\"\n\u001b[1;32m    441\u001b[0m   model_flags, toco_flags, debug_info = build_toco_convert_protos(\n\u001b[0;32m--> 442\u001b[0;31m       input_tensors, output_tensors, *args, **kwargs)\n\u001b[0m\u001b[1;32m    443\u001b[0m   \u001b[0mdebug_info_str\u001b[0m \u001b[0;34m=\u001b[0m \u001b[0mdebug_info\u001b[0m\u001b[0;34m.\u001b[0m\u001b[0mSerializeToString\u001b[0m\u001b[0;34m(\u001b[0m\u001b[0;34m)\u001b[0m \u001b[0;32mif\u001b[0m \u001b[0mdebug_info\u001b[0m \u001b[0;32melse\u001b[0m \u001b[0;32mNone\u001b[0m\u001b[0;34m\u001b[0m\u001b[0;34m\u001b[0m\u001b[0m\n\u001b[1;32m    444\u001b[0m   data = toco_convert_protos(\n",
      "\u001b[0;32m~/opt/miniconda3/envs/PI/lib/python3.7/site-packages/tensorflow_core/lite/python/convert.py\u001b[0m in \u001b[0;36mbuild_toco_convert_protos\u001b[0;34m(input_tensors, output_tensors, inference_type, inference_input_type, input_format, input_shapes, output_format, quantized_input_stats, default_ranges_stats, drop_control_dependency, reorder_across_fake_quant, allow_custom_ops, change_concat_input_ranges, post_training_quantize, quantize_to_float16, dump_graphviz_dir, dump_graphviz_video, target_ops, allow_nonexistent_arrays, debug_info)\u001b[0m\n\u001b[1;32m    337\u001b[0m     \u001b[0minput_array\u001b[0m\u001b[0;34m.\u001b[0m\u001b[0mname\u001b[0m \u001b[0;34m=\u001b[0m \u001b[0mutil\u001b[0m\u001b[0;34m.\u001b[0m\u001b[0mget_tensor_name\u001b[0m\u001b[0;34m(\u001b[0m\u001b[0minput_tensor\u001b[0m\u001b[0;34m)\u001b[0m\u001b[0;34m\u001b[0m\u001b[0;34m\u001b[0m\u001b[0m\n\u001b[1;32m    338\u001b[0m     input_array.data_type = util.convert_dtype_to_tflite_type(\n\u001b[0;32m--> 339\u001b[0;31m         input_tensor.dtype)\n\u001b[0m\u001b[1;32m    340\u001b[0m \u001b[0;34m\u001b[0m\u001b[0m\n\u001b[1;32m    341\u001b[0m     \u001b[0;32mif\u001b[0m \u001b[0mtoco\u001b[0m\u001b[0;34m.\u001b[0m\u001b[0minference_input_type\u001b[0m \u001b[0;34m==\u001b[0m \u001b[0m_types_pb2\u001b[0m\u001b[0;34m.\u001b[0m\u001b[0mQUANTIZED_UINT8\u001b[0m\u001b[0;34m:\u001b[0m\u001b[0;34m\u001b[0m\u001b[0;34m\u001b[0m\u001b[0m\n",
      "\u001b[0;32m~/opt/miniconda3/envs/PI/lib/python3.7/site-packages/tensorflow_core/lite/python/util.py\u001b[0m in \u001b[0;36mconvert_dtype_to_tflite_type\u001b[0;34m(tf_dtype)\u001b[0m\n\u001b[1;32m     62\u001b[0m   \u001b[0mresult\u001b[0m \u001b[0;34m=\u001b[0m \u001b[0m_MAP_TF_TO_TFLITE_TYPES\u001b[0m\u001b[0;34m.\u001b[0m\u001b[0mget\u001b[0m\u001b[0;34m(\u001b[0m\u001b[0mtf_dtype\u001b[0m\u001b[0;34m)\u001b[0m\u001b[0;34m\u001b[0m\u001b[0;34m\u001b[0m\u001b[0m\n\u001b[1;32m     63\u001b[0m   \u001b[0;32mif\u001b[0m \u001b[0mresult\u001b[0m \u001b[0;32mis\u001b[0m \u001b[0;32mNone\u001b[0m\u001b[0;34m:\u001b[0m\u001b[0;34m\u001b[0m\u001b[0;34m\u001b[0m\u001b[0m\n\u001b[0;32m---> 64\u001b[0;31m     \u001b[0;32mraise\u001b[0m \u001b[0mValueError\u001b[0m\u001b[0;34m(\u001b[0m\u001b[0;34m\"Unsupported tf.dtype {0}\"\u001b[0m\u001b[0;34m.\u001b[0m\u001b[0mformat\u001b[0m\u001b[0;34m(\u001b[0m\u001b[0mtf_dtype\u001b[0m\u001b[0;34m)\u001b[0m\u001b[0;34m)\u001b[0m\u001b[0;34m\u001b[0m\u001b[0;34m\u001b[0m\u001b[0m\n\u001b[0m\u001b[1;32m     65\u001b[0m   \u001b[0;32mreturn\u001b[0m \u001b[0mresult\u001b[0m\u001b[0;34m\u001b[0m\u001b[0;34m\u001b[0m\u001b[0m\n\u001b[1;32m     66\u001b[0m \u001b[0;34m\u001b[0m\u001b[0m\n",
      "\u001b[0;31mValueError\u001b[0m: Unsupported tf.dtype <dtype: 'float64'>"
     ]
    }
   ],
   "source": [
    "# Start training\n",
    "\n",
    "with tf.Session() as sess:\n",
    "\n",
    "    # Run the initializer\n",
    "    sess.run(init)\n",
    "\n",
    "    # loop over test data\n",
    "    for i in range(len(Xte)):\n",
    "        # Get nearest neighbor\n",
    "        nn_index = sess.run(pred, feed_dict={xtr: Xtr, xte: Xte[i, :]})\n",
    "        # Get nearest neighbor class label and compare it to its true label\n",
    "        print(\"Test\", i, \"Prediction:\", np.argmax(Ytr[nn_index]), \\\n",
    "            \"True Class:\", np.argmax(Yte[i]))\n",
    "        \n",
    "        # Calculate accuracy\n",
    "        if np.argmax(Ytr[nn_index]) == np.argmax(Yte[i]):\n",
    "            accuracy += 1./len(Xte)\n",
    "    print(\"Accuracy : \",accuracy)\n",
    "    \n",
    "    xxx = []\n",
    "    yyy = []\n",
    "    \n",
    "    for dx in Xtr:\n",
    "        xxx.append(tf.convert_to_tensor(dx))\n",
    "    \n",
    "    for dy in Ytr:\n",
    "        yyy.append(tf.convert_to_tensor(dy))\n",
    "    \n",
    "    converter = tf.lite.TFLiteConverter.from_session(sess, xxx, yyy)\n",
    "    tflite_model = converter.convert()\n",
    "    open(\"converted_model.tflite\", \"wb\").write(tflite_model)"
   ]
  },
  {
   "cell_type": "code",
   "execution_count": null,
   "metadata": {
    "_uuid": "5e8b22bf0b0f9b47bed88a16b717e836938f6759"
   },
   "outputs": [],
   "source": []
  }
 ],
 "metadata": {
  "kernelspec": {
   "display_name": "PI",
   "language": "python",
   "name": "pi"
  },
  "language_info": {
   "codemirror_mode": {
    "name": "ipython",
    "version": 3
   },
   "file_extension": ".py",
   "mimetype": "text/x-python",
   "name": "python",
   "nbconvert_exporter": "python",
   "pygments_lexer": "ipython3",
   "version": "3.7.9"
  }
 },
 "nbformat": 4,
 "nbformat_minor": 1
}
